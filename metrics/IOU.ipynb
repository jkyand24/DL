{
 "cells": [
  {
   "cell_type": "code",
   "execution_count": 3,
   "metadata": {},
   "outputs": [
    {
     "name": "stdout",
     "output_type": "stream",
     "text": [
      "\n",
      "IOU:\n",
      " 0.11659696791308935\n"
     ]
    }
   ],
   "source": [
    "#\n",
    "\n",
    "def calculate_iou(bbox1, bbox2):\n",
    "    x1_1, y1_1, x2_1, y2_1 = bbox1\n",
    "    x1_2, y1_2, x2_2, y2_2 = bbox2\n",
    "    \n",
    "    x_left = max(x1_1, x1_2)\n",
    "    y_top = max(y1_1, y1_2)\n",
    "    x_right = min(x2_1, x2_2)\n",
    "    y_bottom = min(y2_1, y2_2)\n",
    "    \n",
    "    area = max(0, x_right - x_left + 1) * max(0, y_bottom - y_top + 1)\n",
    "    \n",
    "    bbox1_area = (x2_1 - x1_1 + 1) * (y2_1 - y1_1 + 1)\n",
    "    bbox2_area = (x2_2 - x1_2 + 1) * (y2_2 - y1_2 + 1)\n",
    "    \n",
    "    iou = area / (bbox1_area + bbox2_area - area)\n",
    "    \n",
    "    return iou\n",
    "\n",
    "#\n",
    "\n",
    "bbox1 = [100, 100, 300, 300]\n",
    "bbox2 = [200, 150, 500, 500]\n",
    "\n",
    "iou = calculate_iou(bbox1, bbox2)\n",
    "\n",
    "print(\"\\nIOU:\\n\", iou)"
   ]
  }
 ],
 "metadata": {
  "kernelspec": {
   "display_name": "AI",
   "language": "python",
   "name": "ai"
  },
  "language_info": {
   "codemirror_mode": {
    "name": "ipython",
    "version": 3
   },
   "file_extension": ".py",
   "mimetype": "text/x-python",
   "name": "python",
   "nbconvert_exporter": "python",
   "pygments_lexer": "ipython3",
   "version": "3.8.16"
  },
  "orig_nbformat": 4
 },
 "nbformat": 4,
 "nbformat_minor": 2
}
