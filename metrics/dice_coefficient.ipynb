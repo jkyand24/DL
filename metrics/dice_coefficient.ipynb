{
 "cells": [
  {
   "cell_type": "code",
   "execution_count": 3,
   "metadata": {},
   "outputs": [
    {
     "name": "stdout",
     "output_type": "stream",
     "text": [
      "\n",
      "Dice coefficient:\n",
      " 0.7692307692307693\n"
     ]
    },
    {
     "data": {
      "image/png": "[encoded data removed]",
      "text/plain": [
       "<Figure size 640x480 with 2 Axes>"
      ]
     },
     "metadata": {},
     "output_type": "display_data"
    }
   ],
   "source": [
    "import numpy as np \n",
    "import matplotlib.pyplot as plt\n",
    "\n",
    "# dice coefficient 계산하는 함수 정의\n",
    "\n",
    "def dice_coefficient(pred_mask, true_mask):\n",
    "    intersection = np.logical_and(pred_mask, true_mask)\n",
    "    \n",
    "    dc = (2.0 * intersection.sum()) / (pred_mask.sum() + true_mask.sum())\n",
    "    \n",
    "    return dc\n",
    "\n",
    "# mask 시각화하는 함수 정의\n",
    "\n",
    "def plot_masks(pred_mask, true_mask):\n",
    "    plt.subplot(1, 2, 1)\n",
    "    plt.imshow(pred_mask, cmap='gray')\n",
    "    \n",
    "    plt.subplot(1, 2, 2)\n",
    "    plt.imshow(true_mask, cmap='gray')\n",
    "    \n",
    "    plt.show()\n",
    "    \n",
    "# mask 준비\n",
    "\n",
    "pred_mask = np.array([[0,1,1,0],\n",
    "                      [1,1,0,0],\n",
    "                      [0,1,1,1]])\n",
    "true_mask = np.array([[1,1,0,0],\n",
    "                       [1,0,0,0], \n",
    "                       [0,1,1,1]])\n",
    "\n",
    "#\n",
    "\n",
    "dc = dice_coefficient(pred_mask, true_mask)\n",
    "\n",
    "print(\"\\nDice coefficient:\\n\", dc)\n",
    "\n",
    "plot_masks(pred_mask, true_mask)"
   ]
  }
 ],
 "metadata": {
  "kernelspec": {
   "display_name": "AI",
   "language": "python",
   "name": "ai"
  },
  "language_info": {
   "codemirror_mode": {
    "name": "ipython",
    "version": 3
   },
   "file_extension": ".py",
   "mimetype": "text/x-python",
   "name": "python",
   "nbconvert_exporter": "python",
   "pygments_lexer": "ipython3",
   "version": "3.8.16"
  },
  "orig_nbformat": 4
 },
 "nbformat": 4,
 "nbformat_minor": 2
}
